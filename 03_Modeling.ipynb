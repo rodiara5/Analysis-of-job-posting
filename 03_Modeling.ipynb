{
 "cells": [
  {
   "cell_type": "markdown",
   "id": "66537c56",
   "metadata": {},
   "source": [
    "# 3. 채용 데이터 텍스트 분석\n",
    "\n",
    "- 텍스트 분석 수행 프로세스: 텍스트 전처리 -> 피처 벡터화/추출 ->ML모델 수립 및 학습/예측/평가\n",
    "\n",
    "## 3-1 크롤링 데이터에서 분석할 데이터 추출"
   ]
  },
  {
   "cell_type": "code",
   "execution_count": 1,
   "id": "59eeca52",
   "metadata": {
    "scrolled": true
   },
   "outputs": [
    {
     "name": "stderr",
     "output_type": "stream",
     "text": [
      "C:\\Users\\dianacho\\AppData\\Local\\Temp\\ipykernel_32468\\2777357328.py:2: DeprecationWarning: \n",
      "Pyarrow will become a required dependency of pandas in the next major release of pandas (pandas 3.0),\n",
      "(to allow more performant data types, such as the Arrow string type, and better interoperability with other libraries)\n",
      "but was not found to be installed on your system.\n",
      "If this would cause problems for you,\n",
      "please provide us feedback at https://github.com/pandas-dev/pandas/issues/54466\n",
      "        \n",
      "  import pandas as pd\n"
     ]
    },
    {
     "data": {
      "text/html": [
       "<div>\n",
       "<style scoped>\n",
       "    .dataframe tbody tr th:only-of-type {\n",
       "        vertical-align: middle;\n",
       "    }\n",
       "\n",
       "    .dataframe tbody tr th {\n",
       "        vertical-align: top;\n",
       "    }\n",
       "\n",
       "    .dataframe thead th {\n",
       "        text-align: right;\n",
       "    }\n",
       "</style>\n",
       "<table border=\"1\" class=\"dataframe\">\n",
       "  <thead>\n",
       "    <tr style=\"text-align: right;\">\n",
       "      <th></th>\n",
       "      <th>company</th>\n",
       "      <th>title</th>\n",
       "      <th>url</th>\n",
       "      <th>city</th>\n",
       "      <th>district</th>\n",
       "      <th>remain_address</th>\n",
       "      <th>career</th>\n",
       "      <th>education_date</th>\n",
       "      <th>stack</th>\n",
       "      <th>main_task</th>\n",
       "      <th>qualification</th>\n",
       "      <th>more</th>\n",
       "      <th>duetime</th>\n",
       "      <th>years_of_experience</th>\n",
       "      <th>established_date</th>\n",
       "      <th>total_employees</th>\n",
       "      <th>company_type</th>\n",
       "      <th>view</th>\n",
       "    </tr>\n",
       "  </thead>\n",
       "  <tbody>\n",
       "    <tr>\n",
       "      <th>0</th>\n",
       "      <td>워트인텔리전스</td>\n",
       "      <td>[워트 개발팀] 데이터 엔지니어 모집 (국내 최대 데이터)</td>\n",
       "      <td>https://www.jumpit.co.kr/position/7326</td>\n",
       "      <td>서울시</td>\n",
       "      <td>서초구</td>\n",
       "      <td>강남대로 507, 6층</td>\n",
       "      <td>경력 2~10년</td>\n",
       "      <td>대학교졸업(4년) 이상</td>\n",
       "      <td>MongoDB, BigData, REST API, Hadoop, Java, Luce...</td>\n",
       "      <td>다양한 서비스를 제공하기 위해 Airflow를 활용한 데이터 파이프라인 구축, 데이...</td>\n",
       "      <td>• Java, Python, SQL 을 다루는데 어려움이 없으신 분\\n• Linux...</td>\n",
       "      <td>• 검색서비스 개발과 자연어 처리 경험 보유자 우대\\n• 머신러닝, 딥러닝 기반 업...</td>\n",
       "      <td>상시</td>\n",
       "      <td>10.0</td>\n",
       "      <td>2015-5-27</td>\n",
       "      <td>40.0</td>\n",
       "      <td>중소기업, 주식회사, 사단법인</td>\n",
       "      <td>370</td>\n",
       "    </tr>\n",
       "  </tbody>\n",
       "</table>\n",
       "</div>"
      ],
      "text/plain": [
       "   company                             title  \\\n",
       "0  워트인텔리전스  [워트 개발팀] 데이터 엔지니어 모집 (국내 최대 데이터)   \n",
       "\n",
       "                                      url city district remain_address  \\\n",
       "0  https://www.jumpit.co.kr/position/7326  서울시      서초구   강남대로 507, 6층   \n",
       "\n",
       "     career education_date                                              stack  \\\n",
       "0  경력 2~10년   대학교졸업(4년) 이상  MongoDB, BigData, REST API, Hadoop, Java, Luce...   \n",
       "\n",
       "                                           main_task  \\\n",
       "0  다양한 서비스를 제공하기 위해 Airflow를 활용한 데이터 파이프라인 구축, 데이...   \n",
       "\n",
       "                                       qualification  \\\n",
       "0  • Java, Python, SQL 을 다루는데 어려움이 없으신 분\\n• Linux...   \n",
       "\n",
       "                                                more duetime  \\\n",
       "0  • 검색서비스 개발과 자연어 처리 경험 보유자 우대\\n• 머신러닝, 딥러닝 기반 업...      상시   \n",
       "\n",
       "   years_of_experience established_date  total_employees      company_type  \\\n",
       "0                 10.0        2015-5-27             40.0  중소기업, 주식회사, 사단법인   \n",
       "\n",
       "  view  \n",
       "0  370  "
      ]
     },
     "execution_count": 1,
     "metadata": {},
     "output_type": "execute_result"
    }
   ],
   "source": [
    "#크롤링한 채용 데이터 가져오기\n",
    "import pandas as pd\n",
    "import warnings\n",
    "warnings.filterwarnings(action='ignore')\n",
    "\n",
    "base = pd.read_csv(\"jumpit_crawling_데이터 엔지니어_2024-02-19.csv\", index_col='Unnamed: 0')\n",
    "base.head(1)"
   ]
  },
  {
   "cell_type": "code",
   "execution_count": 2,
   "id": "e82fe09f",
   "metadata": {},
   "outputs": [
    {
     "data": {
      "text/html": [
       "<div>\n",
       "<style scoped>\n",
       "    .dataframe tbody tr th:only-of-type {\n",
       "        vertical-align: middle;\n",
       "    }\n",
       "\n",
       "    .dataframe tbody tr th {\n",
       "        vertical-align: top;\n",
       "    }\n",
       "\n",
       "    .dataframe thead th {\n",
       "        text-align: right;\n",
       "    }\n",
       "</style>\n",
       "<table border=\"1\" class=\"dataframe\">\n",
       "  <thead>\n",
       "    <tr style=\"text-align: right;\">\n",
       "      <th></th>\n",
       "      <th>stack</th>\n",
       "      <th>qualification</th>\n",
       "      <th>more</th>\n",
       "    </tr>\n",
       "  </thead>\n",
       "  <tbody>\n",
       "    <tr>\n",
       "      <th>0</th>\n",
       "      <td>MongoDB, BigData, REST API, Hadoop, Java, Luce...</td>\n",
       "      <td>• Java, Python, SQL 을 다루는데 어려움이 없으신 분\\n• Linux...</td>\n",
       "      <td>• 검색서비스 개발과 자연어 처리 경험 보유자 우대\\n• 머신러닝, 딥러닝 기반 업...</td>\n",
       "    </tr>\n",
       "    <tr>\n",
       "      <th>1</th>\n",
       "      <td>Git, MongoDB, Amazon DynamoDB, FastAPI, Airflo...</td>\n",
       "      <td>• Python을 활용한 데이터 처리 경험이 있는 분\\n• 데이터 프로세싱을 위한 ...</td>\n",
       "      <td>• GIS를 활용한 데이터 구조화가 가능한 분\\n• 지역 기반의 상권 및 매출 관련...</td>\n",
       "    </tr>\n",
       "    <tr>\n",
       "      <th>2</th>\n",
       "      <td>AI/인공지능, BigData, C++, DeepLearning, NLP, Tens...</td>\n",
       "      <td>• 학력: 학사 이상\\n• 경력 신입 가능\\n• 파이썬/C/C++및 영상처리, 음성...</td>\n",
       "      <td>• 대학원(석사) 이상\\n• 관련 딥러닝 모델 연구/개발자 우대 (Tensor Fl...</td>\n",
       "    </tr>\n",
       "    <tr>\n",
       "      <th>3</th>\n",
       "      <td>QlikView, Java, Python, PowerBI, Microsoft Pow...</td>\n",
       "      <td>• 모집직급: 대리 ~ 과장 \\n• MS Power Platform 구축 / 운영 ...</td>\n",
       "      <td>• MS Azure  및 전산관련 자격증 보유 \\n• 빅데이터 통계분석, DW&amp;DM...</td>\n",
       "    </tr>\n",
       "    <tr>\n",
       "      <th>4</th>\n",
       "      <td>Etl, NoSql, Java, Python</td>\n",
       "      <td>• 데이터 엔지니어링 및 인프라 개발/운영 경력이 3년 이상 이거나 이에 준하는 실...</td>\n",
       "      <td>• 분산처리기술 경험\\n• 대용량 및 실시간 데이터 분산 처리 시스템 개발 경험\\n...</td>\n",
       "    </tr>\n",
       "  </tbody>\n",
       "</table>\n",
       "</div>"
      ],
      "text/plain": [
       "                                               stack  \\\n",
       "0  MongoDB, BigData, REST API, Hadoop, Java, Luce...   \n",
       "1  Git, MongoDB, Amazon DynamoDB, FastAPI, Airflo...   \n",
       "2  AI/인공지능, BigData, C++, DeepLearning, NLP, Tens...   \n",
       "3  QlikView, Java, Python, PowerBI, Microsoft Pow...   \n",
       "4                           Etl, NoSql, Java, Python   \n",
       "\n",
       "                                       qualification  \\\n",
       "0  • Java, Python, SQL 을 다루는데 어려움이 없으신 분\\n• Linux...   \n",
       "1  • Python을 활용한 데이터 처리 경험이 있는 분\\n• 데이터 프로세싱을 위한 ...   \n",
       "2  • 학력: 학사 이상\\n• 경력 신입 가능\\n• 파이썬/C/C++및 영상처리, 음성...   \n",
       "3  • 모집직급: 대리 ~ 과장 \\n• MS Power Platform 구축 / 운영 ...   \n",
       "4  • 데이터 엔지니어링 및 인프라 개발/운영 경력이 3년 이상 이거나 이에 준하는 실...   \n",
       "\n",
       "                                                more  \n",
       "0  • 검색서비스 개발과 자연어 처리 경험 보유자 우대\\n• 머신러닝, 딥러닝 기반 업...  \n",
       "1  • GIS를 활용한 데이터 구조화가 가능한 분\\n• 지역 기반의 상권 및 매출 관련...  \n",
       "2  • 대학원(석사) 이상\\n• 관련 딥러닝 모델 연구/개발자 우대 (Tensor Fl...  \n",
       "3  • MS Azure  및 전산관련 자격증 보유 \\n• 빅데이터 통계분석, DW&DM...  \n",
       "4  • 분산처리기술 경험\\n• 대용량 및 실시간 데이터 분산 처리 시스템 개발 경험\\n...  "
      ]
     },
     "execution_count": 2,
     "metadata": {},
     "output_type": "execute_result"
    }
   ],
   "source": [
    "#채용 정보 중에 텍스트 분석할 텍스트만 가져오기 (기술, 필요사항, 우대사항)\n",
    "base_00 = base[['stack', 'qualification', 'more']]\n",
    "base_00.head()"
   ]
  },
  {
   "cell_type": "code",
   "execution_count": 40,
   "id": "7d53f20e",
   "metadata": {},
   "outputs": [
    {
     "name": "stdout",
     "output_type": "stream",
     "text": [
      "<class 'pandas.core.frame.DataFrame'>\n",
      "RangeIndex: 273 entries, 0 to 272\n",
      "Data columns (total 3 columns):\n",
      " #   Column         Non-Null Count  Dtype \n",
      "---  ------         --------------  ----- \n",
      " 0   stack          273 non-null    object\n",
      " 1   qualification  273 non-null    object\n",
      " 2   more           273 non-null    object\n",
      "dtypes: object(3)\n",
      "memory usage: 6.5+ KB\n"
     ]
    }
   ],
   "source": [
    "base_00.info()"
   ]
  },
  {
   "cell_type": "code",
   "execution_count": 41,
   "id": "3a935237",
   "metadata": {
    "scrolled": true
   },
   "outputs": [
    {
     "data": {
      "text/plain": [
       "'MongoDB, BigData, REST API, Hadoop, Java, Lucene, AWS, Spring, Python, SQL• Java, Python, SQL 을 다루는데 어려움이 없으신 분\\n• Linux 환경 하에 개발 및 시스템 운영 \\n• 데이터 엔지니어 경력 2년 이상• 검색서비스 개발과 자연어 처리 경험 보유자 우대\\n• 머신러닝, 딥러닝 기반 업무 경험 또는 플랫폼 개발 경험 보유자 우대'"
      ]
     },
     "execution_count": 41,
     "metadata": {},
     "output_type": "execute_result"
    }
   ],
   "source": [
    "#나눠져 있는 텍스트를 하나의 말뭉치로 합치기\n",
    "text_list = []\n",
    "for index, row in base_00.iterrows():\n",
    "    text = ''.join(row.astype(str))\n",
    "    text_list.append(text)\n",
    "\n",
    "text_list[0]\n"
   ]
  },
  {
   "cell_type": "markdown",
   "id": "c9537b58",
   "metadata": {},
   "source": [
    "## 3-2 특수문자 제거 & 텍스트 정규화"
   ]
  },
  {
   "cell_type": "code",
   "execution_count": null,
   "id": "9e82b30e",
   "metadata": {},
   "outputs": [],
   "source": [
    "!pip install konlpy\n",
    "import konlpy\n",
    "from konlpy.tag import Kkma, Komoran, Okt"
   ]
  },
  {
   "cell_type": "code",
   "execution_count": 52,
   "id": "68669fa0",
   "metadata": {},
   "outputs": [
    {
     "name": "stdout",
     "output_type": "stream",
     "text": [
      "['mongodb', 'bigdata', 'rest', 'api', 'hadoop', 'java', 'lucene', 'aws', 'spring', 'python', 'sql', 'java', 'python', 'sql', '을', '다루는데', '어려움', '이', '없으신', '분', '\\n ', 'linux', '환경', '하', '에', '개발', '및', '시스템', '운영', '데이터', '엔지니어', '경력', '2년', '이상', '검색', '서비스', '개발', '과', '자연어', '처리', '경험', '보유', '자', '우대', '\\n ', '머신', '러닝', '딥', '러닝', '기반', '업무', '경험', '또는', '플랫폼', '개발', '경험', '보유', '자', '우대']\n",
      "<class 'list'>\n"
     ]
    }
   ],
   "source": [
    "import re\n",
    "clean_text = []\n",
    "for t in text_lower:\n",
    "  text1 = re.sub(r\"[^\\uAC00-\\uD7A30-9a-zA-Z\\s]\", \"\", t)\n",
    "  text2 = okt.morphs(text1)\n",
    "  clean_text.append(text2)\n",
    "\n",
    "print(clean_text[0])\n",
    "len(clean_text)\n",
    "print(type(clean_text[0]))"
   ]
  },
  {
   "cell_type": "code",
   "execution_count": 60,
   "id": "b2fd7287",
   "metadata": {},
   "outputs": [
    {
     "data": {
      "text/plain": [
       "'mongodb bigdata rest api hadoop java lucene aws spring python sql java python sql 을 다루는데 어려움 이 없으신 분 \\n  linux 환경 하 에 개발 및 시스템 운영 데이터 엔지니어 경력 2년 이상 검색 서비스 개발 과 자연어 처리 경험 보유 자 우대 \\n  머신 러닝 딥 러닝 기반 업무 경험 또는 플랫폼 개발 경험 보유 자 우대'"
      ]
     },
     "execution_count": 60,
     "metadata": {},
     "output_type": "execute_result"
    }
   ],
   "source": [
    "#정제화된 단어 리스트를 하나의 말뭉치로 다시 합치기\n",
    "clean_text2 = []\n",
    "for t in clean_text:\n",
    "    text = ' '.join(t)\n",
    "    clean_text2.append(text)\n",
    "    \n",
    "clean_text2[0]"
   ]
  },
  {
   "cell_type": "code",
   "execution_count": 86,
   "id": "c21057fc",
   "metadata": {},
   "outputs": [
    {
     "data": {
      "text/html": [
       "<div>\n",
       "<style scoped>\n",
       "    .dataframe tbody tr th:only-of-type {\n",
       "        vertical-align: middle;\n",
       "    }\n",
       "\n",
       "    .dataframe tbody tr th {\n",
       "        vertical-align: top;\n",
       "    }\n",
       "\n",
       "    .dataframe thead th {\n",
       "        text-align: right;\n",
       "    }\n",
       "</style>\n",
       "<table border=\"1\" class=\"dataframe\">\n",
       "  <thead>\n",
       "    <tr style=\"text-align: right;\">\n",
       "      <th></th>\n",
       "      <th>company</th>\n",
       "      <th>text</th>\n",
       "    </tr>\n",
       "  </thead>\n",
       "  <tbody>\n",
       "    <tr>\n",
       "      <th>0</th>\n",
       "      <td>워트인텔리전스</td>\n",
       "      <td>mongodb bigdata rest api hadoop java lucene aw...</td>\n",
       "    </tr>\n",
       "    <tr>\n",
       "      <th>1</th>\n",
       "      <td>핀다</td>\n",
       "      <td>git mongodb amazon dynamodb fastapi airflow py...</td>\n",
       "    </tr>\n",
       "    <tr>\n",
       "      <th>2</th>\n",
       "      <td>무브멘토</td>\n",
       "      <td>ai 인공 지능 bigdata c deeplearning nlp tensorflow...</td>\n",
       "    </tr>\n",
       "    <tr>\n",
       "      <th>3</th>\n",
       "      <td>웅진</td>\n",
       "      <td>qlikview java python powerbi microsoft powerap...</td>\n",
       "    </tr>\n",
       "    <tr>\n",
       "      <th>4</th>\n",
       "      <td>비포플레이</td>\n",
       "      <td>etl nosql java python 데이터 엔지니어링 및 인프라 개발 운영 경력...</td>\n",
       "    </tr>\n",
       "  </tbody>\n",
       "</table>\n",
       "</div>"
      ],
      "text/plain": [
       "   company                                               text\n",
       "0  워트인텔리전스  mongodb bigdata rest api hadoop java lucene aw...\n",
       "1       핀다  git mongodb amazon dynamodb fastapi airflow py...\n",
       "2     무브멘토  ai 인공 지능 bigdata c deeplearning nlp tensorflow...\n",
       "3       웅진  qlikview java python powerbi microsoft powerap...\n",
       "4    비포플레이  etl nosql java python 데이터 엔지니어링 및 인프라 개발 운영 경력..."
      ]
     },
     "execution_count": 86,
     "metadata": {},
     "output_type": "execute_result"
    }
   ],
   "source": [
    "#회사명과 함께 분석할 최종 말뭉치 데이터프레임 만들기\n",
    "data = {'company': base['company'],\n",
    "              'text': clean_text2}\n",
    "\n",
    "df = pd.DataFrame(data)\n",
    "df.head()"
   ]
  },
  {
   "cell_type": "code",
   "execution_count": 87,
   "id": "c606c833",
   "metadata": {},
   "outputs": [
    {
     "name": "stdout",
     "output_type": "stream",
     "text": [
      "<class 'pandas.core.frame.DataFrame'>\n",
      "RangeIndex: 273 entries, 0 to 272\n",
      "Data columns (total 2 columns):\n",
      " #   Column   Non-Null Count  Dtype \n",
      "---  ------   --------------  ----- \n",
      " 0   company  273 non-null    object\n",
      " 1   text     273 non-null    object\n",
      "dtypes: object(2)\n",
      "memory usage: 4.4+ KB\n"
     ]
    }
   ],
   "source": [
    "df.info()"
   ]
  },
  {
   "cell_type": "markdown",
   "id": "0b237e95",
   "metadata": {},
   "source": [
    "## 3-3 데이터 전처리(피처벡터화 TF-IDF)\n",
    "\n",
    "- 텍스트를 머신러닝에 적용하기 위해서는 비정형 텍스트 데이터를 어떻게 피처 형태로 추출하고 추출된 피처에 의미있는 값을 부여하는가가 중요한 요소\n",
    "- 피처 벡터화(Feature Vectorization), 피처 추출(Feature Extraction)\n",
    "- 대표적으로  BOW(Bag of words), Word2Vec가 있으며 BOW은 대표적으로 `Count 기반`과 `TF-IDF 기반` 벡터화가 있음\n",
    "\n",
    "### `CountVectorizer`\n",
    "- 카운트 기반 벡터화, 카운트 값이 높을수록 중요한 단어로 인식\n",
    "- 하지만 단순히 단어의 빈도만 고려한다면 모든 문서에서 자주 쓰일 수밖에 없는 단어들이 (불용어 등) 중요하다고 인식될 수 있음\n",
    "- 이런 문제를 보완하기 위해 TF-IDF(Term Frequency - Inverse Document Frequency) 벡터화를 사용\n",
    "\n",
    "### `TF-IDF(Term Frequency - Inverse Document Frequency)`\n",
    "- 해당 단어가 실질적으로 중요한 단어인지 검사\n",
    "- 문서의 양이 많을 경우에는 일반적으로 카운트 기반의 벡터화보다 TF-IDF 방식의 벡터화를 사용\n",
    "- 개별 문서에서 자주 등장하는 단어에 높은 가중치를 주되, 모든 문서에서 전반적으로 자주 등장하는 단어에 대해서는 페널티를 주는 방식\n",
    "- 모든 문서에서 자주 등장하는 단어에는 페널티를 주고, 해당 문서에서만 자주 등장하는 단어에 높은 가중치를 주는 방식\n"
   ]
  },
  {
   "cell_type": "code",
   "execution_count": 64,
   "id": "66ca54ab",
   "metadata": {},
   "outputs": [
    {
     "data": {
      "text/plain": [
       "str"
      ]
     },
     "execution_count": 64,
     "metadata": {},
     "output_type": "execute_result"
    }
   ],
   "source": [
    "type(df['text'][0])"
   ]
  },
  {
   "cell_type": "code",
   "execution_count": 65,
   "id": "ea97ecc9",
   "metadata": {
    "scrolled": true
   },
   "outputs": [
    {
     "name": "stdout",
     "output_type": "stream",
     "text": [
      "(273, 3425)\n"
     ]
    }
   ],
   "source": [
    "from sklearn.feature_extraction.text import TfidfVectorizer\n",
    "tfidf = TfidfVectorizer()\n",
    "feature_vect = tfidf.fit_transform(df['text'])\n",
    "print(feature_vect.shape)"
   ]
  },
  {
   "cell_type": "code",
   "execution_count": 66,
   "id": "4872cb0a",
   "metadata": {},
   "outputs": [
    {
     "data": {
      "text/plain": [
       "<273x3425 sparse matrix of type '<class 'numpy.float64'>'\n",
       "\twith 17493 stored elements in Compressed Sparse Row format>"
      ]
     },
     "execution_count": 66,
     "metadata": {},
     "output_type": "execute_result"
    }
   ],
   "source": [
    "feature_vect"
   ]
  },
  {
   "cell_type": "markdown",
   "id": "37dd7c61",
   "metadata": {},
   "source": [
    "# 4. 군집화: K-mean Clustering\n",
    "\n",
    "- K-평균은 군집화에서 가장 일반적으로 사용되는 알고리즘\n",
    "- 군집 중심점(centroid)이라는 `특정한 임의의 지점을 선택`해 해당 중심에 가장 가까운 지점을 선택하는 기법\n",
    "\n",
    "![k-means-clustering-algorithm-in-machine-learning19.png](img/k-means-clustering-algorithm-in-machine-learning19.png)\n",
    "\n",
    "- 1. 군집화의 기준이 되는 중심을 구성하려는 군집화 개수만큼 임의의 위치에 놓음\n",
    "- 2. 각 데이터는 가장 가까운 곳에 위치한 중심점에 소속\n",
    "\n",
    "- 3. 소속이 결정되면 군집 중심점(cenroid)을 소속된 데이터의  평균 지점으로 이동\n",
    "- 4. 각 데이터는 기존에 속한 중심점보다 더 가까운 중심점이 있다면 소속 변경\n",
    "- 5. 다시 중심을 소속된 데이터의 평균 중심으로 이동\n",
    "- 6. 중심점을 이동했는데 데이터의 중심점 소속 변경이 없으면 종료"
   ]
  },
  {
   "cell_type": "markdown",
   "id": "baad9aca",
   "metadata": {},
   "source": [
    "## 장점\n",
    "- 일반적인 군집화에서 가장 많이 활용되는 알고리즘\n",
    "- 알고리즘이 쉽고 간결\n",
    "\n",
    "## 단점\n",
    "- 거리 기반 알고리즘으로 속성의 개수가 매우 많을 경우 군집화 정확도가 떨어짐\n",
    "- 반복을 수행하는데, 반복 횟수가 많을 경우 수행 시간이 느려짐\n",
    "- 몇개의 군집(cluster)을 선택해야 할지 가이드하기 어려움"
   ]
  },
  {
   "cell_type": "markdown",
   "id": "3c0ac965",
   "metadata": {},
   "source": [
    "## 4-1 학습 알고리즘 및 최적화\n",
    "\n",
    "- 크롤링한 채용 텍스트 데이터를 가지고 군집화 수행\n",
    "- 초반 파라미터: 군집수 5개, 평균 이동 반복 횟수 1000번"
   ]
  },
  {
   "cell_type": "code",
   "execution_count": 111,
   "id": "ee021320",
   "metadata": {
    "scrolled": true
   },
   "outputs": [
    {
     "data": {
      "text/html": [
       "<style>#sk-container-id-2 {\n",
       "  /* Definition of color scheme common for light and dark mode */\n",
       "  --sklearn-color-text: black;\n",
       "  --sklearn-color-line: gray;\n",
       "  /* Definition of color scheme for unfitted estimators */\n",
       "  --sklearn-color-unfitted-level-0: #fff5e6;\n",
       "  --sklearn-color-unfitted-level-1: #f6e4d2;\n",
       "  --sklearn-color-unfitted-level-2: #ffe0b3;\n",
       "  --sklearn-color-unfitted-level-3: chocolate;\n",
       "  /* Definition of color scheme for fitted estimators */\n",
       "  --sklearn-color-fitted-level-0: #f0f8ff;\n",
       "  --sklearn-color-fitted-level-1: #d4ebff;\n",
       "  --sklearn-color-fitted-level-2: #b3dbfd;\n",
       "  --sklearn-color-fitted-level-3: cornflowerblue;\n",
       "\n",
       "  /* Specific color for light theme */\n",
       "  --sklearn-color-text-on-default-background: var(--sg-text-color, var(--theme-code-foreground, var(--jp-content-font-color1, black)));\n",
       "  --sklearn-color-background: var(--sg-background-color, var(--theme-background, var(--jp-layout-color0, white)));\n",
       "  --sklearn-color-border-box: var(--sg-text-color, var(--theme-code-foreground, var(--jp-content-font-color1, black)));\n",
       "  --sklearn-color-icon: #696969;\n",
       "\n",
       "  @media (prefers-color-scheme: dark) {\n",
       "    /* Redefinition of color scheme for dark theme */\n",
       "    --sklearn-color-text-on-default-background: var(--sg-text-color, var(--theme-code-foreground, var(--jp-content-font-color1, white)));\n",
       "    --sklearn-color-background: var(--sg-background-color, var(--theme-background, var(--jp-layout-color0, #111)));\n",
       "    --sklearn-color-border-box: var(--sg-text-color, var(--theme-code-foreground, var(--jp-content-font-color1, white)));\n",
       "    --sklearn-color-icon: #878787;\n",
       "  }\n",
       "}\n",
       "\n",
       "#sk-container-id-2 {\n",
       "  color: var(--sklearn-color-text);\n",
       "}\n",
       "\n",
       "#sk-container-id-2 pre {\n",
       "  padding: 0;\n",
       "}\n",
       "\n",
       "#sk-container-id-2 input.sk-hidden--visually {\n",
       "  border: 0;\n",
       "  clip: rect(1px 1px 1px 1px);\n",
       "  clip: rect(1px, 1px, 1px, 1px);\n",
       "  height: 1px;\n",
       "  margin: -1px;\n",
       "  overflow: hidden;\n",
       "  padding: 0;\n",
       "  position: absolute;\n",
       "  width: 1px;\n",
       "}\n",
       "\n",
       "#sk-container-id-2 div.sk-dashed-wrapped {\n",
       "  border: 1px dashed var(--sklearn-color-line);\n",
       "  margin: 0 0.4em 0.5em 0.4em;\n",
       "  box-sizing: border-box;\n",
       "  padding-bottom: 0.4em;\n",
       "  background-color: var(--sklearn-color-background);\n",
       "}\n",
       "\n",
       "#sk-container-id-2 div.sk-container {\n",
       "  /* jupyter's `normalize.less` sets `[hidden] { display: none; }`\n",
       "     but bootstrap.min.css set `[hidden] { display: none !important; }`\n",
       "     so we also need the `!important` here to be able to override the\n",
       "     default hidden behavior on the sphinx rendered scikit-learn.org.\n",
       "     See: https://github.com/scikit-learn/scikit-learn/issues/21755 */\n",
       "  display: inline-block !important;\n",
       "  position: relative;\n",
       "}\n",
       "\n",
       "#sk-container-id-2 div.sk-text-repr-fallback {\n",
       "  display: none;\n",
       "}\n",
       "\n",
       "div.sk-parallel-item,\n",
       "div.sk-serial,\n",
       "div.sk-item {\n",
       "  /* draw centered vertical line to link estimators */\n",
       "  background-image: linear-gradient(var(--sklearn-color-text-on-default-background), var(--sklearn-color-text-on-default-background));\n",
       "  background-size: 2px 100%;\n",
       "  background-repeat: no-repeat;\n",
       "  background-position: center center;\n",
       "}\n",
       "\n",
       "/* Parallel-specific style estimator block */\n",
       "\n",
       "#sk-container-id-2 div.sk-parallel-item::after {\n",
       "  content: \"\";\n",
       "  width: 100%;\n",
       "  border-bottom: 2px solid var(--sklearn-color-text-on-default-background);\n",
       "  flex-grow: 1;\n",
       "}\n",
       "\n",
       "#sk-container-id-2 div.sk-parallel {\n",
       "  display: flex;\n",
       "  align-items: stretch;\n",
       "  justify-content: center;\n",
       "  background-color: var(--sklearn-color-background);\n",
       "  position: relative;\n",
       "}\n",
       "\n",
       "#sk-container-id-2 div.sk-parallel-item {\n",
       "  display: flex;\n",
       "  flex-direction: column;\n",
       "}\n",
       "\n",
       "#sk-container-id-2 div.sk-parallel-item:first-child::after {\n",
       "  align-self: flex-end;\n",
       "  width: 50%;\n",
       "}\n",
       "\n",
       "#sk-container-id-2 div.sk-parallel-item:last-child::after {\n",
       "  align-self: flex-start;\n",
       "  width: 50%;\n",
       "}\n",
       "\n",
       "#sk-container-id-2 div.sk-parallel-item:only-child::after {\n",
       "  width: 0;\n",
       "}\n",
       "\n",
       "/* Serial-specific style estimator block */\n",
       "\n",
       "#sk-container-id-2 div.sk-serial {\n",
       "  display: flex;\n",
       "  flex-direction: column;\n",
       "  align-items: center;\n",
       "  background-color: var(--sklearn-color-background);\n",
       "  padding-right: 1em;\n",
       "  padding-left: 1em;\n",
       "}\n",
       "\n",
       "\n",
       "/* Toggleable style: style used for estimator/Pipeline/ColumnTransformer box that is\n",
       "clickable and can be expanded/collapsed.\n",
       "- Pipeline and ColumnTransformer use this feature and define the default style\n",
       "- Estimators will overwrite some part of the style using the `sk-estimator` class\n",
       "*/\n",
       "\n",
       "/* Pipeline and ColumnTransformer style (default) */\n",
       "\n",
       "#sk-container-id-2 div.sk-toggleable {\n",
       "  /* Default theme specific background. It is overwritten whether we have a\n",
       "  specific estimator or a Pipeline/ColumnTransformer */\n",
       "  background-color: var(--sklearn-color-background);\n",
       "}\n",
       "\n",
       "/* Toggleable label */\n",
       "#sk-container-id-2 label.sk-toggleable__label {\n",
       "  cursor: pointer;\n",
       "  display: block;\n",
       "  width: 100%;\n",
       "  margin-bottom: 0;\n",
       "  padding: 0.5em;\n",
       "  box-sizing: border-box;\n",
       "  text-align: center;\n",
       "}\n",
       "\n",
       "#sk-container-id-2 label.sk-toggleable__label-arrow:before {\n",
       "  /* Arrow on the left of the label */\n",
       "  content: \"▸\";\n",
       "  float: left;\n",
       "  margin-right: 0.25em;\n",
       "  color: var(--sklearn-color-icon);\n",
       "}\n",
       "\n",
       "#sk-container-id-2 label.sk-toggleable__label-arrow:hover:before {\n",
       "  color: var(--sklearn-color-text);\n",
       "}\n",
       "\n",
       "/* Toggleable content - dropdown */\n",
       "\n",
       "#sk-container-id-2 div.sk-toggleable__content {\n",
       "  max-height: 0;\n",
       "  max-width: 0;\n",
       "  overflow: hidden;\n",
       "  text-align: left;\n",
       "  /* unfitted */\n",
       "  background-color: var(--sklearn-color-unfitted-level-0);\n",
       "}\n",
       "\n",
       "#sk-container-id-2 div.sk-toggleable__content.fitted {\n",
       "  /* fitted */\n",
       "  background-color: var(--sklearn-color-fitted-level-0);\n",
       "}\n",
       "\n",
       "#sk-container-id-2 div.sk-toggleable__content pre {\n",
       "  margin: 0.2em;\n",
       "  border-radius: 0.25em;\n",
       "  color: var(--sklearn-color-text);\n",
       "  /* unfitted */\n",
       "  background-color: var(--sklearn-color-unfitted-level-0);\n",
       "}\n",
       "\n",
       "#sk-container-id-2 div.sk-toggleable__content.fitted pre {\n",
       "  /* unfitted */\n",
       "  background-color: var(--sklearn-color-fitted-level-0);\n",
       "}\n",
       "\n",
       "#sk-container-id-2 input.sk-toggleable__control:checked~div.sk-toggleable__content {\n",
       "  /* Expand drop-down */\n",
       "  max-height: 200px;\n",
       "  max-width: 100%;\n",
       "  overflow: auto;\n",
       "}\n",
       "\n",
       "#sk-container-id-2 input.sk-toggleable__control:checked~label.sk-toggleable__label-arrow:before {\n",
       "  content: \"▾\";\n",
       "}\n",
       "\n",
       "/* Pipeline/ColumnTransformer-specific style */\n",
       "\n",
       "#sk-container-id-2 div.sk-label input.sk-toggleable__control:checked~label.sk-toggleable__label {\n",
       "  color: var(--sklearn-color-text);\n",
       "  background-color: var(--sklearn-color-unfitted-level-2);\n",
       "}\n",
       "\n",
       "#sk-container-id-2 div.sk-label.fitted input.sk-toggleable__control:checked~label.sk-toggleable__label {\n",
       "  background-color: var(--sklearn-color-fitted-level-2);\n",
       "}\n",
       "\n",
       "/* Estimator-specific style */\n",
       "\n",
       "/* Colorize estimator box */\n",
       "#sk-container-id-2 div.sk-estimator input.sk-toggleable__control:checked~label.sk-toggleable__label {\n",
       "  /* unfitted */\n",
       "  background-color: var(--sklearn-color-unfitted-level-2);\n",
       "}\n",
       "\n",
       "#sk-container-id-2 div.sk-estimator.fitted input.sk-toggleable__control:checked~label.sk-toggleable__label {\n",
       "  /* fitted */\n",
       "  background-color: var(--sklearn-color-fitted-level-2);\n",
       "}\n",
       "\n",
       "#sk-container-id-2 div.sk-label label.sk-toggleable__label,\n",
       "#sk-container-id-2 div.sk-label label {\n",
       "  /* The background is the default theme color */\n",
       "  color: var(--sklearn-color-text-on-default-background);\n",
       "}\n",
       "\n",
       "/* On hover, darken the color of the background */\n",
       "#sk-container-id-2 div.sk-label:hover label.sk-toggleable__label {\n",
       "  color: var(--sklearn-color-text);\n",
       "  background-color: var(--sklearn-color-unfitted-level-2);\n",
       "}\n",
       "\n",
       "/* Label box, darken color on hover, fitted */\n",
       "#sk-container-id-2 div.sk-label.fitted:hover label.sk-toggleable__label.fitted {\n",
       "  color: var(--sklearn-color-text);\n",
       "  background-color: var(--sklearn-color-fitted-level-2);\n",
       "}\n",
       "\n",
       "/* Estimator label */\n",
       "\n",
       "#sk-container-id-2 div.sk-label label {\n",
       "  font-family: monospace;\n",
       "  font-weight: bold;\n",
       "  display: inline-block;\n",
       "  line-height: 1.2em;\n",
       "}\n",
       "\n",
       "#sk-container-id-2 div.sk-label-container {\n",
       "  text-align: center;\n",
       "}\n",
       "\n",
       "/* Estimator-specific */\n",
       "#sk-container-id-2 div.sk-estimator {\n",
       "  font-family: monospace;\n",
       "  border: 1px dotted var(--sklearn-color-border-box);\n",
       "  border-radius: 0.25em;\n",
       "  box-sizing: border-box;\n",
       "  margin-bottom: 0.5em;\n",
       "  /* unfitted */\n",
       "  background-color: var(--sklearn-color-unfitted-level-0);\n",
       "}\n",
       "\n",
       "#sk-container-id-2 div.sk-estimator.fitted {\n",
       "  /* fitted */\n",
       "  background-color: var(--sklearn-color-fitted-level-0);\n",
       "}\n",
       "\n",
       "/* on hover */\n",
       "#sk-container-id-2 div.sk-estimator:hover {\n",
       "  /* unfitted */\n",
       "  background-color: var(--sklearn-color-unfitted-level-2);\n",
       "}\n",
       "\n",
       "#sk-container-id-2 div.sk-estimator.fitted:hover {\n",
       "  /* fitted */\n",
       "  background-color: var(--sklearn-color-fitted-level-2);\n",
       "}\n",
       "\n",
       "/* Specification for estimator info (e.g. \"i\" and \"?\") */\n",
       "\n",
       "/* Common style for \"i\" and \"?\" */\n",
       "\n",
       ".sk-estimator-doc-link,\n",
       "a:link.sk-estimator-doc-link,\n",
       "a:visited.sk-estimator-doc-link {\n",
       "  float: right;\n",
       "  font-size: smaller;\n",
       "  line-height: 1em;\n",
       "  font-family: monospace;\n",
       "  background-color: var(--sklearn-color-background);\n",
       "  border-radius: 1em;\n",
       "  height: 1em;\n",
       "  width: 1em;\n",
       "  text-decoration: none !important;\n",
       "  margin-left: 1ex;\n",
       "  /* unfitted */\n",
       "  border: var(--sklearn-color-unfitted-level-1) 1pt solid;\n",
       "  color: var(--sklearn-color-unfitted-level-1);\n",
       "}\n",
       "\n",
       ".sk-estimator-doc-link.fitted,\n",
       "a:link.sk-estimator-doc-link.fitted,\n",
       "a:visited.sk-estimator-doc-link.fitted {\n",
       "  /* fitted */\n",
       "  border: var(--sklearn-color-fitted-level-1) 1pt solid;\n",
       "  color: var(--sklearn-color-fitted-level-1);\n",
       "}\n",
       "\n",
       "/* On hover */\n",
       "div.sk-estimator:hover .sk-estimator-doc-link:hover,\n",
       ".sk-estimator-doc-link:hover,\n",
       "div.sk-label-container:hover .sk-estimator-doc-link:hover,\n",
       ".sk-estimator-doc-link:hover {\n",
       "  /* unfitted */\n",
       "  background-color: var(--sklearn-color-unfitted-level-3);\n",
       "  color: var(--sklearn-color-background);\n",
       "  text-decoration: none;\n",
       "}\n",
       "\n",
       "div.sk-estimator.fitted:hover .sk-estimator-doc-link.fitted:hover,\n",
       ".sk-estimator-doc-link.fitted:hover,\n",
       "div.sk-label-container:hover .sk-estimator-doc-link.fitted:hover,\n",
       ".sk-estimator-doc-link.fitted:hover {\n",
       "  /* fitted */\n",
       "  background-color: var(--sklearn-color-fitted-level-3);\n",
       "  color: var(--sklearn-color-background);\n",
       "  text-decoration: none;\n",
       "}\n",
       "\n",
       "/* Span, style for the box shown on hovering the info icon */\n",
       ".sk-estimator-doc-link span {\n",
       "  display: none;\n",
       "  z-index: 9999;\n",
       "  position: relative;\n",
       "  font-weight: normal;\n",
       "  right: .2ex;\n",
       "  padding: .5ex;\n",
       "  margin: .5ex;\n",
       "  width: min-content;\n",
       "  min-width: 20ex;\n",
       "  max-width: 50ex;\n",
       "  color: var(--sklearn-color-text);\n",
       "  box-shadow: 2pt 2pt 4pt #999;\n",
       "  /* unfitted */\n",
       "  background: var(--sklearn-color-unfitted-level-0);\n",
       "  border: .5pt solid var(--sklearn-color-unfitted-level-3);\n",
       "}\n",
       "\n",
       ".sk-estimator-doc-link.fitted span {\n",
       "  /* fitted */\n",
       "  background: var(--sklearn-color-fitted-level-0);\n",
       "  border: var(--sklearn-color-fitted-level-3);\n",
       "}\n",
       "\n",
       ".sk-estimator-doc-link:hover span {\n",
       "  display: block;\n",
       "}\n",
       "\n",
       "/* \"?\"-specific style due to the `<a>` HTML tag */\n",
       "\n",
       "#sk-container-id-2 a.estimator_doc_link {\n",
       "  float: right;\n",
       "  font-size: 1rem;\n",
       "  line-height: 1em;\n",
       "  font-family: monospace;\n",
       "  background-color: var(--sklearn-color-background);\n",
       "  border-radius: 1rem;\n",
       "  height: 1rem;\n",
       "  width: 1rem;\n",
       "  text-decoration: none;\n",
       "  /* unfitted */\n",
       "  color: var(--sklearn-color-unfitted-level-1);\n",
       "  border: var(--sklearn-color-unfitted-level-1) 1pt solid;\n",
       "}\n",
       "\n",
       "#sk-container-id-2 a.estimator_doc_link.fitted {\n",
       "  /* fitted */\n",
       "  border: var(--sklearn-color-fitted-level-1) 1pt solid;\n",
       "  color: var(--sklearn-color-fitted-level-1);\n",
       "}\n",
       "\n",
       "/* On hover */\n",
       "#sk-container-id-2 a.estimator_doc_link:hover {\n",
       "  /* unfitted */\n",
       "  background-color: var(--sklearn-color-unfitted-level-3);\n",
       "  color: var(--sklearn-color-background);\n",
       "  text-decoration: none;\n",
       "}\n",
       "\n",
       "#sk-container-id-2 a.estimator_doc_link.fitted:hover {\n",
       "  /* fitted */\n",
       "  background-color: var(--sklearn-color-fitted-level-3);\n",
       "}\n",
       "</style><div id=\"sk-container-id-2\" class=\"sk-top-container\"><div class=\"sk-text-repr-fallback\"><pre>KMeans(max_iter=1000, random_state=0)</pre><b>In a Jupyter environment, please rerun this cell to show the HTML representation or trust the notebook. <br />On GitHub, the HTML representation is unable to render, please try loading this page with nbviewer.org.</b></div><div class=\"sk-container\" hidden><div class=\"sk-item\"><div class=\"sk-estimator fitted sk-toggleable\"><input class=\"sk-toggleable__control sk-hidden--visually\" id=\"sk-estimator-id-2\" type=\"checkbox\" checked><label for=\"sk-estimator-id-2\" class=\"sk-toggleable__label fitted sk-toggleable__label-arrow fitted\">&nbsp;&nbsp;KMeans<a class=\"sk-estimator-doc-link fitted\" rel=\"noreferrer\" target=\"_blank\" href=\"https://scikit-learn.org/1.4/modules/generated/sklearn.cluster.KMeans.html\">?<span>Documentation for KMeans</span></a><span class=\"sk-estimator-doc-link fitted\">i<span>Fitted</span></span></label><div class=\"sk-toggleable__content fitted\"><pre>KMeans(max_iter=1000, random_state=0)</pre></div> </div></div></div></div>"
      ],
      "text/plain": [
       "KMeans(max_iter=1000, random_state=0)"
      ]
     },
     "execution_count": 111,
     "metadata": {},
     "output_type": "execute_result"
    }
   ],
   "source": [
    "#10개 집합으로 K-Mean 군집화 수행\n",
    "\n",
    "from sklearn.cluster import KMeans\n",
    "#n_clusters : 군집화할 개수, 군집 중심점의 개수\n",
    "#max_iter : 최대 반복 횟수\n",
    "\n",
    "km_cluster = KMeans(n_clusters=8, max_iter=1000, random_state=0)\n",
    "km_cluster.fit(feature_vect)\n",
    "\n",
    "#채용 데이터에 대한 군집화 수행 결과를 객체 변수로 반환"
   ]
  },
  {
   "cell_type": "code",
   "execution_count": 112,
   "id": "5b86471e",
   "metadata": {
    "scrolled": true
   },
   "outputs": [
    {
     "data": {
      "text/plain": [
       "array([4, 4, 7, 4, 4, 1, 7, 4, 1, 4, 4, 4, 4, 2, 4, 4, 4, 7, 4, 4, 4, 4,\n",
       "       4, 4, 4, 4, 4, 4, 4, 4, 4, 4, 4, 2, 4, 1, 7, 7, 4, 7, 7, 4, 7, 4,\n",
       "       1, 4, 4, 4, 4, 4, 4, 1, 4, 4, 4, 4, 4, 4, 1, 7, 1, 7, 4, 5, 5, 7,\n",
       "       6, 1, 4, 7, 1, 4, 4, 4, 7, 4, 4, 5, 0, 1, 0, 3, 0, 0, 2, 0, 1, 1,\n",
       "       0, 3, 3, 3, 0, 0, 4, 0, 0, 0, 3, 0, 1, 3, 0, 0, 0, 1, 4, 5, 5, 5,\n",
       "       0, 0, 3, 1, 0, 0, 1, 1, 1, 0, 0, 3, 3, 3, 1, 0, 1, 0, 1, 3, 0, 0,\n",
       "       4, 1, 1, 1, 0, 1, 0, 0, 0, 3, 1, 3, 3, 3, 6, 3, 1, 0, 0, 3, 3, 1,\n",
       "       1, 3, 3, 1, 0, 1, 3, 0, 1, 3, 0, 0, 0, 3, 0, 0, 0, 0, 1, 0, 3, 1,\n",
       "       3, 1, 4, 6, 7, 7, 1, 1, 4, 7, 7, 7, 6, 4, 1, 7, 7, 1, 1, 1, 1, 6,\n",
       "       2, 6, 1, 1, 3, 3, 7, 2, 0, 1, 1, 1, 6, 1, 6, 1, 3, 1, 6, 1, 0, 6,\n",
       "       1, 1, 1, 7, 6, 7, 1, 1, 2, 1, 1, 0, 1, 2, 1, 1, 5, 1, 6, 6, 1, 1,\n",
       "       1, 1, 2, 1, 1, 2, 2, 1, 1, 1, 1, 6, 0, 1, 1, 2, 1, 6, 2, 2, 2, 2,\n",
       "       1, 1, 1, 1, 1, 1, 1, 1, 7])"
      ]
     },
     "execution_count": 112,
     "metadata": {},
     "output_type": "execute_result"
    }
   ],
   "source": [
    "#각 회사에 지정된 라벨값 확인\n",
    "km_cluster.labels_"
   ]
  },
  {
   "cell_type": "code",
   "execution_count": 113,
   "id": "94528db3",
   "metadata": {},
   "outputs": [
    {
     "data": {
      "text/plain": [
       "array([[0.        , 0.        , 0.        , ..., 0.        , 0.        ,\n",
       "        0.0024532 ],\n",
       "       [0.        , 0.00086175, 0.00122832, ..., 0.        , 0.00094394,\n",
       "        0.        ],\n",
       "       [0.        , 0.        , 0.        , ..., 0.        , 0.        ,\n",
       "        0.        ],\n",
       "       ...,\n",
       "       [0.00701067, 0.00651858, 0.00498273, ..., 0.        , 0.        ,\n",
       "        0.        ],\n",
       "       [0.        , 0.        , 0.        , ..., 0.        , 0.        ,\n",
       "        0.        ],\n",
       "       [0.        , 0.        , 0.00494323, ..., 0.        , 0.        ,\n",
       "        0.        ]])"
      ]
     },
     "execution_count": 113,
     "metadata": {},
     "output_type": "execute_result"
    }
   ],
   "source": [
    "#각 군집 중심점 좌표\n",
    "km_cluster.cluster_centers_"
   ]
  },
  {
   "cell_type": "code",
   "execution_count": 114,
   "id": "bb4c0519",
   "metadata": {},
   "outputs": [
    {
     "data": {
      "text/html": [
       "<div>\n",
       "<style scoped>\n",
       "    .dataframe tbody tr th:only-of-type {\n",
       "        vertical-align: middle;\n",
       "    }\n",
       "\n",
       "    .dataframe tbody tr th {\n",
       "        vertical-align: top;\n",
       "    }\n",
       "\n",
       "    .dataframe thead th {\n",
       "        text-align: right;\n",
       "    }\n",
       "</style>\n",
       "<table border=\"1\" class=\"dataframe\">\n",
       "  <thead>\n",
       "    <tr style=\"text-align: right;\">\n",
       "      <th></th>\n",
       "      <th>company</th>\n",
       "      <th>text</th>\n",
       "      <th>cluster_label</th>\n",
       "    </tr>\n",
       "  </thead>\n",
       "  <tbody>\n",
       "    <tr>\n",
       "      <th>0</th>\n",
       "      <td>워트인텔리전스</td>\n",
       "      <td>mongodb bigdata rest api hadoop java lucene aw...</td>\n",
       "      <td>4</td>\n",
       "    </tr>\n",
       "    <tr>\n",
       "      <th>1</th>\n",
       "      <td>핀다</td>\n",
       "      <td>git mongodb amazon dynamodb fastapi airflow py...</td>\n",
       "      <td>4</td>\n",
       "    </tr>\n",
       "    <tr>\n",
       "      <th>2</th>\n",
       "      <td>무브멘토</td>\n",
       "      <td>ai 인공 지능 bigdata c deeplearning nlp tensorflow...</td>\n",
       "      <td>7</td>\n",
       "    </tr>\n",
       "    <tr>\n",
       "      <th>3</th>\n",
       "      <td>웅진</td>\n",
       "      <td>qlikview java python powerbi microsoft powerap...</td>\n",
       "      <td>4</td>\n",
       "    </tr>\n",
       "    <tr>\n",
       "      <th>4</th>\n",
       "      <td>비포플레이</td>\n",
       "      <td>etl nosql java python 데이터 엔지니어링 및 인프라 개발 운영 경력...</td>\n",
       "      <td>4</td>\n",
       "    </tr>\n",
       "  </tbody>\n",
       "</table>\n",
       "</div>"
      ],
      "text/plain": [
       "   company                                               text  cluster_label\n",
       "0  워트인텔리전스  mongodb bigdata rest api hadoop java lucene aw...              4\n",
       "1       핀다  git mongodb amazon dynamodb fastapi airflow py...              4\n",
       "2     무브멘토  ai 인공 지능 bigdata c deeplearning nlp tensorflow...              7\n",
       "3       웅진  qlikview java python powerbi microsoft powerap...              4\n",
       "4    비포플레이  etl nosql java python 데이터 엔지니어링 및 인프라 개발 운영 경력...              4"
      ]
     },
     "execution_count": 114,
     "metadata": {},
     "output_type": "execute_result"
    }
   ],
   "source": [
    "cluster_label = km_cluster.labels_\n",
    "cluster_centers = km_cluster.cluster_centers_\n",
    "df['cluster_label'] = cluster_label\n",
    "df.head()"
   ]
  },
  {
   "cell_type": "code",
   "execution_count": 115,
   "id": "ab610f4e",
   "metadata": {},
   "outputs": [
    {
     "name": "stdout",
     "output_type": "stream",
     "text": [
      "cluster_centers shape:(cluster, feature)  (8, 3425)\n",
      "[[0.         0.         0.         ... 0.         0.         0.0024532 ]\n",
      " [0.         0.00086175 0.00122832 ... 0.         0.00094394 0.        ]\n",
      " [0.         0.         0.         ... 0.         0.         0.        ]\n",
      " ...\n",
      " [0.00701067 0.00651858 0.00498273 ... 0.         0.         0.        ]\n",
      " [0.         0.         0.         ... 0.         0.         0.        ]\n",
      " [0.         0.         0.00494323 ... 0.         0.         0.        ]]\n"
     ]
    }
   ],
   "source": [
    "#각 군집을 구성하는 핵심 단어가 어떤 것이 있을까?\n",
    "\n",
    "#clusters_centers : KMeans 객체는 각 군집을 구성하는 단어 피처가 군집의 중심을 기준으로 얼마나 가깝게 위치해 있는지\n",
    "print('cluster_centers shape:(cluster, feature) ', cluster_centers.shape)\n",
    "print(cluster_centers)\n",
    "\n",
    "#군집이 5개, word피처가 6415개로 구성\n",
    "#각 행의 배열값은 각 군집 내의 6415개 피처의 위치가 개별 중심과 얼마나 가까운가를 상대값으로 나타냄, 1에 가까울수록 중심과 가까움"
   ]
  },
  {
   "cell_type": "markdown",
   "id": "7bb4e58b",
   "metadata": {},
   "source": [
    "## === 군집별 핵심 단어, 회사명 출력 함수 ==="
   ]
  },
  {
   "cell_type": "code",
   "execution_count": 71,
   "id": "fe80ec94",
   "metadata": {},
   "outputs": [],
   "source": [
    "#군집별 top n 핵심 단어, 그 단어의 중심 위치 상댓값, 대상 파일명을 반환\n",
    "\n",
    "def get_cluster_details(cluster_model, cluster_data, feature_names, clusters_num, top_n_features=10):\n",
    "  cluster_details = {}\n",
    "\n",
    "  #cluster_centers array의 값이 큰 순으로 정렬된 인덱스 값을 반환\n",
    "  #군집 중심점(centroid)별 할당된 word 피처들의 거리값이 큰 순으로 값을 구하기 위함\n",
    "  centroid_feature_ordered_ind = cluster_model.cluster_centers_.argsort()[:, ::-1]\n",
    "\n",
    "  #개별 군집별로 반복하면서 핵심 단어, 그 단어의 중심 위치 상댓값, 대상 파일명 입력\n",
    "  for cluster_num in range(clusters_num):\n",
    "    #개별 군집별 정보를 담을 데이터 초기화\n",
    "    cluster_details[cluster_num] = {}\n",
    "    cluster_details[cluster_num]['cluster'] = cluster_num\n",
    "\n",
    "    #cluster_model.cluster_centers_.argsort()[:, ::-1]로 구한 인덱스를 이용해 top n 단어를 구함\n",
    "    top_feature_indexes = centroid_feature_ordered_ind[cluster_num, :top_n_features]\n",
    "    top_features = [feature_names[ind] for ind in top_feature_indexes]\n",
    "\n",
    "    #top_feature_indexes를 이용해 해당 피처 단어의 중심 위치 상댓값 구함\n",
    "    top_feature_values = cluster_model.cluster_centers_[cluster_num, top_feature_indexes].tolist()\n",
    "\n",
    "    #cluster_details 딕셔너리 객체에 개별 군집별 핵심단어와 중심위치 상댓값, 해당 파일명 입력\n",
    "    cluster_details[cluster_num]['top_features'] = top_features\n",
    "    cluster_details[cluster_num]['top_features_value'] = top_feature_values\n",
    "    filenames = cluster_data[cluster_data['cluster_label'] == cluster_num]['company']\n",
    "    filenames = filenames.values.tolist()\n",
    "\n",
    "    cluster_details[cluster_num]['filenames'] = filenames\n",
    "\n",
    "    \n",
    "  return cluster_details"
   ]
  },
  {
   "cell_type": "code",
   "execution_count": 72,
   "id": "42bbbe0d",
   "metadata": {},
   "outputs": [],
   "source": [
    "def print_cluster_details(cluster_details):\n",
    "  for cluster_num, cluster_detail in cluster_details.items():\n",
    "    print('####### Cluster {0}'.format(cluster_num))\n",
    "    print('Top Features:', cluster_detail['top_features'])\n",
    "    print('hiring filename:', cluster_detail['filenames'][:7])\n",
    "    print('======================================')"
   ]
  },
  {
   "cell_type": "code",
   "execution_count": 73,
   "id": "417b5666",
   "metadata": {},
   "outputs": [
    {
     "data": {
      "text/plain": [
       "array(['02', '10', '10년', ..., '흐름', '흥미', '희망'], dtype=object)"
      ]
     },
     "execution_count": 73,
     "metadata": {},
     "output_type": "execute_result"
    }
   ],
   "source": [
    "feature_names=tfidf.get_feature_names_out()\n",
    "feature_names"
   ]
  },
  {
   "cell_type": "code",
   "execution_count": 74,
   "id": "2415b38d",
   "metadata": {},
   "outputs": [],
   "source": [
    "cluster_details = get_cluster_details(cluster_model=km_cluster, \n",
    "                                      cluster_data=df, \n",
    "                                      feature_names=feature_names, \n",
    "                                      clusters_num = 5, \n",
    "                                      top_n_features=20)"
   ]
  },
  {
   "cell_type": "code",
   "execution_count": 75,
   "id": "36c5065a",
   "metadata": {},
   "outputs": [
    {
     "name": "stdout",
     "output_type": "stream",
     "text": [
      "####### Cluster 0\n",
      "Top Features: ['경험', '있으신', '운영', '구축', '클라우드', '인프라', 'kubernetes', '설계', '환경', '이상', 'aws', '보유', '보안', '대한', '시스템', '아키텍처', '데이터', '서비스', '있는', 'linux']\n",
      "hiring filename: ['휴맥스모빌리티', '브레인커머스', '빗썸코리아', '오케스트로', '이랜드이노플', '오케스트로', '이글루코퍼레이션']\n",
      "======================================\n",
      "####### Cluster 1\n",
      "Top Features: ['경험', '개발', '있는', '있으신', '대한', '이해', 'aws', '하는', '데이터', '서비스', 'react', '사용', '운영', 'sap', '하고', '이상', '기술', '보유', 'python', '언어']\n",
      "hiring filename: ['핀다', '비포플레이', '롯데헬스케어', '스윗코리아', '애자일소다', '메이크스타', '디플래닉스']\n",
      "======================================\n",
      "####### Cluster 2\n",
      "Top Features: ['qa', '경험', '테스트', 'sw', 'jira', 'confluence', '있으신', '대한', '커뮤니케이션', '게임', '능력', '보유', '개발', '가능하신', 'istqb', '지식', '관련', '우대', '이해', '프로세스']\n",
      "hiring filename: ['모비두', '미리디', '무하유', '비씨랩스', '일렉트로닉아츠코리아', '위메이드', '브레이브모바일']\n",
      "======================================\n",
      "####### Cluster 3\n",
      "Top Features: ['경험', '데이터', 'ai', '러닝', '분석', 'tensorflow', 'pytorch', 'python', '있으신', '관련', '개발', '모델', '머신', '이상', '있는', '경력', '논문', 'deeplearning', 'sql', 'machinelearning']\n",
      "hiring filename: ['워트인텔리전스', '무브멘토', '마크클라우드', '플래티어', '로보코리아', '코인원', '바르카']\n",
      "======================================\n",
      "####### Cluster 4\n",
      "Top Features: ['경험', 'and', '있으신', '능력', '분석', '테스트', '품질', '가능하신', 'in', '보유', '경력', '대한', '작성', '관리', 'to', '지식', 'data', 'linux', 'experience', '데이터']\n",
      "hiring filename: ['웅진', '딥노이드', '메이븐클라우드서비스', '스포카', '스포카', '밀버스', '디노마드']\n",
      "======================================\n"
     ]
    }
   ],
   "source": [
    "#Kmeans 군집화 객체(label), 핵심 단어 추출, 회사명 반환\n",
    "print_cluster_details(cluster_details)"
   ]
  },
  {
   "cell_type": "markdown",
   "id": "a1da4ed8",
   "metadata": {},
   "source": [
    "# === 데이터& 머신러닝 활용안 ===\n",
    "1. 크롤링하여 채용 데이터 저장\n",
    "2. 군집분석으로 중심단어와 회사 출력\n",
    "3. 출력 결과를 참고하여 본인의 스펙/회사의 요구사항이 유사한 군집 선택하여 조회"
   ]
  },
  {
   "cell_type": "markdown",
   "id": "180eafd7",
   "metadata": {},
   "source": [
    "# 5. 군집화 평가\n",
    "- 대부분의 군집화데이터 세트는 비교할 만한 타킷 레이블이 없음\n",
    "- 비지도학습 특성상 어떠한 지표라도 정확하게 성능을 평가하기 어려움\n",
    "- 그럼에도 군집화의 성능을 평가하는 대표적인 방법으로 `실루엣 분석`이 있음\n",
    "- 적정의 K값을 선택하는 어려움이 있기에 최적의 K를 구하는 방법으로 Elbow Method, Silhouette Score"
   ]
  },
  {
   "cell_type": "markdown",
   "id": "d351e19a",
   "metadata": {},
   "source": [
    "## 1) 군집 결과 시각화를 위한 데이터 생성\n",
    "- 사이킷런은 다양한 유형의 군집화 알고리즘을 테스트해 보기 위한 간단한 데이터 생성기 제공\n",
    "- 군집화용 데이터 생성기 : make_blobs() / make_classification() / make_circle() / make_moon()\n",
    "- make_blobs() : 개별 군집의 중심점과 표준 편차 제어 기능이 추가\n",
    "- make_classification() : 노이즈를 포함한 데이터를 만드는데 유용하게 사용"
   ]
  },
  {
   "cell_type": "code",
   "execution_count": 104,
   "id": "4a96f041",
   "metadata": {
    "scrolled": true
   },
   "outputs": [
    {
     "name": "stdout",
     "output_type": "stream",
     "text": [
      "(273, 2) (273,)\n",
      "[0 1 2 3 4] [55 55 55 54 54]\n"
     ]
    }
   ],
   "source": [
    "import numpy as np\n",
    "import matplotlib.pyplot as plt\n",
    "from sklearn.cluster import KMeans\n",
    "from sklearn.datasets import make_blobs\n",
    "%matplotlib inline\n",
    "\n",
    "#피처 데이터 세트와 타깃 데이터 세트가 튜플로 반환\n",
    "#총 273개의 레코드와 2개의 피처가 3개의 군집화 기반 분포도를 가진 피처 데이터 세트 X와, 동시에 5개의 군집화 값을 가진 타깃 데이터 세트 y가 반환\n",
    "X, y = make_blobs(n_samples=273, n_features=2, centers=5, cluster_std=0.8, random_state=0)\n",
    "print(X.shape, y.shape)\n",
    "\n",
    "#y target 값의 분포를 확인\n",
    "unique, counts = np.unique(y, return_counts=True)\n",
    "print(unique, counts)"
   ]
  },
  {
   "cell_type": "code",
   "execution_count": 105,
   "id": "f9f1b5dd",
   "metadata": {},
   "outputs": [
    {
     "data": {
      "text/html": [
       "<div>\n",
       "<style scoped>\n",
       "    .dataframe tbody tr th:only-of-type {\n",
       "        vertical-align: middle;\n",
       "    }\n",
       "\n",
       "    .dataframe tbody tr th {\n",
       "        vertical-align: top;\n",
       "    }\n",
       "\n",
       "    .dataframe thead th {\n",
       "        text-align: right;\n",
       "    }\n",
       "</style>\n",
       "<table border=\"1\" class=\"dataframe\">\n",
       "  <thead>\n",
       "    <tr style=\"text-align: right;\">\n",
       "      <th></th>\n",
       "      <th>ftr1</th>\n",
       "      <th>ftr2</th>\n",
       "    </tr>\n",
       "  </thead>\n",
       "  <tbody>\n",
       "    <tr>\n",
       "      <th>0</th>\n",
       "      <td>0.984670</td>\n",
       "      <td>5.732484</td>\n",
       "    </tr>\n",
       "    <tr>\n",
       "      <th>1</th>\n",
       "      <td>-1.635664</td>\n",
       "      <td>3.827395</td>\n",
       "    </tr>\n",
       "    <tr>\n",
       "      <th>2</th>\n",
       "      <td>2.035807</td>\n",
       "      <td>0.307239</td>\n",
       "    </tr>\n",
       "  </tbody>\n",
       "</table>\n",
       "</div>"
      ],
      "text/plain": [
       "       ftr1      ftr2\n",
       "0  0.984670  5.732484\n",
       "1 -1.635664  3.827395\n",
       "2  2.035807  0.307239"
      ]
     },
     "execution_count": 105,
     "metadata": {},
     "output_type": "execute_result"
    }
   ],
   "source": [
    "clusterDF = pd.DataFrame(data=X, columns=['ftr1', 'ftr2'])\n",
    "#clusterDF['target']=y\n",
    "clusterDF.head(3)"
   ]
  },
  {
   "cell_type": "code",
   "execution_count": 106,
   "id": "5b96f16f",
   "metadata": {
    "scrolled": false
   },
   "outputs": [
    {
     "data": {
      "text/html": [
       "<div>\n",
       "<style scoped>\n",
       "    .dataframe tbody tr th:only-of-type {\n",
       "        vertical-align: middle;\n",
       "    }\n",
       "\n",
       "    .dataframe tbody tr th {\n",
       "        vertical-align: top;\n",
       "    }\n",
       "\n",
       "    .dataframe thead th {\n",
       "        text-align: right;\n",
       "    }\n",
       "</style>\n",
       "<table border=\"1\" class=\"dataframe\">\n",
       "  <thead>\n",
       "    <tr style=\"text-align: right;\">\n",
       "      <th></th>\n",
       "      <th>ftr1</th>\n",
       "      <th>ftr2</th>\n",
       "      <th>kmeans_label</th>\n",
       "    </tr>\n",
       "  </thead>\n",
       "  <tbody>\n",
       "    <tr>\n",
       "      <th>0</th>\n",
       "      <td>0.984670</td>\n",
       "      <td>5.732484</td>\n",
       "      <td>3</td>\n",
       "    </tr>\n",
       "    <tr>\n",
       "      <th>1</th>\n",
       "      <td>-1.635664</td>\n",
       "      <td>3.827395</td>\n",
       "      <td>1</td>\n",
       "    </tr>\n",
       "    <tr>\n",
       "      <th>2</th>\n",
       "      <td>2.035807</td>\n",
       "      <td>0.307239</td>\n",
       "      <td>3</td>\n",
       "    </tr>\n",
       "    <tr>\n",
       "      <th>3</th>\n",
       "      <td>-0.993798</td>\n",
       "      <td>2.549306</td>\n",
       "      <td>4</td>\n",
       "    </tr>\n",
       "    <tr>\n",
       "      <th>4</th>\n",
       "      <td>1.171761</td>\n",
       "      <td>0.939396</td>\n",
       "      <td>1</td>\n",
       "    </tr>\n",
       "  </tbody>\n",
       "</table>\n",
       "</div>"
      ],
      "text/plain": [
       "       ftr1      ftr2  kmeans_label\n",
       "0  0.984670  5.732484             3\n",
       "1 -1.635664  3.827395             1\n",
       "2  2.035807  0.307239             3\n",
       "3 -0.993798  2.549306             4\n",
       "4  1.171761  0.939396             1"
      ]
     },
     "execution_count": 106,
     "metadata": {},
     "output_type": "execute_result"
    }
   ],
   "source": [
    "clusterDF['kmeans_label'] = cluster_label\n",
    "clusterDF.head(5)"
   ]
  },
  {
   "cell_type": "code",
   "execution_count": 107,
   "id": "75e7d17d",
   "metadata": {},
   "outputs": [],
   "source": [
    "#cluster_centers_ 개별 클러스터의 중심 위치 좌표 시각화를 위해 추출\n",
    "\n",
    "centers = km_cluster.cluster_centers_\n",
    "unique_labels = np.unique(cluster_label)\n",
    "markers = ['o','s','^','P','D'] #,'H','x'"
   ]
  },
  {
   "cell_type": "code",
   "execution_count": 108,
   "id": "49a72a8b",
   "metadata": {},
   "outputs": [
    {
     "data": {
      "image/png": "[encoded data removed]",
      "text/plain": [
       "<Figure size 640x480 with 1 Axes>"
      ]
     },
     "metadata": {},
     "output_type": "display_data"
    }
   ],
   "source": [
    "#군집된 label 유형별로 iteration하면서 marker별로 scatter plot 수행\n",
    "for label in unique_labels:\n",
    "    label_cluster = clusterDF[clusterDF['kmeans_label']==label]\n",
    "    center_x_y = centers[label]\n",
    "    plt.scatter(x=label_cluster['ftr1'], y=label_cluster['ftr2'], edgecolor=\"k\", marker=markers[label])\n",
    "    \n",
    "plt.show()"
   ]
  },
  {
   "cell_type": "code",
   "execution_count": 109,
   "id": "2f262670",
   "metadata": {},
   "outputs": [
    {
     "name": "stdout",
     "output_type": "stream",
     "text": [
      "kmeans_label\n",
      "1    86\n",
      "3    69\n",
      "0    60\n",
      "4    37\n",
      "2    21\n",
      "Name: count, dtype: int64\n"
     ]
    }
   ],
   "source": [
    "print(clusterDF['kmeans_label'].value_counts())"
   ]
  },
  {
   "cell_type": "markdown",
   "id": "9fc3eb66",
   "metadata": {},
   "source": [
    "### 5개의 군집으로 모여지긴 했지만 동일한 모형들이 모여지진 않음, 성능을 평가할 수 없음"
   ]
  },
  {
   "cell_type": "markdown",
   "id": "32e34838",
   "metadata": {},
   "source": [
    "## 2) Elbow Method\n",
    "- 군집분석(특히, KMeans 분석)에서 군집수를 결정하는 방법\n",
    "- Cluster 간의 거리의 합을 나타내는 inertia가 급격히 떨어지는 구간이 생기는데 이 지점의 K 값을 군집의 개수로 사용\n",
    "\n",
    "![43191elbow_img.png](img/43191elbow_img.png)"
   ]
  },
  {
   "cell_type": "code",
   "execution_count": 82,
   "id": "207e75e4",
   "metadata": {},
   "outputs": [],
   "source": [
    "def visualize_elbowmethod(data, param_init='random', param_n_init=10, param_max_iter=300):\n",
    "    distortions = []\n",
    "    for i in range(1, 20):\n",
    "        km = KMeans(n_clusters=i, init=param_init, n_init=param_n_init, max_iter=param_max_iter, random_state=0)\n",
    "        km.fit(data)\n",
    "        distortions.append(km.inertia_)\n",
    "\n",
    "    plt.plot(range(1, 20), distortions, marker='o')\n",
    "    plt.xlabel('Number of Cluster')\n",
    "    plt.ylabel('inertia')\n",
    "\n",
    "    plt.show()"
   ]
  },
  {
   "cell_type": "code",
   "execution_count": 83,
   "id": "da9d971b",
   "metadata": {},
   "outputs": [
    {
     "data": {
      "image/png": "[encoded data removed]",
      "text/plain": [
       "<Figure size 640x480 with 1 Axes>"
      ]
     },
     "metadata": {},
     "output_type": "display_data"
    }
   ],
   "source": [
    "#1. 사용하고자 하는 클러스터 범위를 지정한다.\n",
    "#2. 각 클러스터를 WCSS방법으로 계산을 합니다.\n",
    "#3. WCSS값과 클러스터 K 갯수에 대한 커브선을 그립니다.\n",
    "#4. 뾰족하게 구부러진 부분이나 특정 지점이 팔처럼 굽어지는 부분을 K로 지정합니다. \n",
    "visualize_elbowmethod(feature_vect)"
   ]
  },
  {
   "cell_type": "markdown",
   "id": "3b5cb6a3",
   "metadata": {},
   "source": [
    "## 3) 실루엣 분석(silhouette analysis)\n",
    "- 각 군집 간의 거리가 얼마나 효율적으로 분리돼 있는지를 나타냄\n",
    "- 효율적으로 잘 분리 = 다른 군집과의 거리는 떨어져 있고 동일 군집끼리의 데이터는 서로 가깝게 잘 뭉쳐 있음\n",
    "- 실루엣 계수(silhouette coefficient) 기반: 개별 데이터가 가지는 군집화 지표\n",
    "\n",
    "![silouette01.png](img/silouette01.png)\n",
    "![silouette07.png](img/silouette07.png)\n",
    "\n",
    "> -1 에서 1 사이의 값을 가지며, 1에 가까워질수록 근처의 군집과 더 멀리 떨어져 있다는 것이고 0에 가까울수록 근처의 군집과 가까워진다는 의미\n",
    "\n",
    "## **좋은 군집화**\n",
    "- 전체 실루엣 계수의 평균값, 즉 사이킷런의 silhouette_score() 값은 0~1 사이의 값을 가지며, 1에 가까울수록 좋음\n",
    "- 하지만 전체 실루엣 계수의 평균값과 더불어 개별 군집의 평균값의 편차가 크지 않아야 함. 즉, 개별 군집의 실루엣 계수 평균값이 전체 실루엑 계수의 평균값에서 크게 벗어나지 않는 것이 중요\n",
    "\n",
    "\n"
   ]
  },
  {
   "cell_type": "markdown",
   "id": "8f65159b",
   "metadata": {},
   "source": [
    "## 4) 평가 결과\n",
    "- 기초 모델 hiring data set Silhouette Analysis Score: 0.01661\n",
    "- 수치로 평가하기에는 너무나 작은 값\n",
    "- 조금이라도 성능을 올리기 위해 형태소 분석(konlpy), 데이터 전처리(lower) 진행\n",
    "- 군집 갯수에 따라 성능변화를 알아본 결과 25개로 군집으로 나누었을때 가장 좋은 실루엣 계수값이 나옴(best n: 25 best score: 0.0359)"
   ]
  },
  {
   "cell_type": "code",
   "execution_count": 84,
   "id": "f5903fd5",
   "metadata": {},
   "outputs": [
    {
     "name": "stdout",
     "output_type": "stream",
     "text": [
      "silhouette_samples() return 값의 shape (273,)\n",
      "hiring data set Silhouette Analysis Score: 0.01661\n"
     ]
    }
   ],
   "source": [
    "from sklearn.preprocessing import scale\n",
    "from sklearn.cluster import KMeans\n",
    "#실루엣 분석 평가 지표값을 구하기 위한 API 추가\n",
    "from sklearn.metrics import silhouette_samples, silhouette_score\n",
    "import matplotlib.pyplot as plt\n",
    "import numpy as np\n",
    "\n",
    "%matplotlib inline\n",
    "\n",
    "#모든 개별 데이터에 실루엣 계수값을 구함\n",
    "\n",
    "score_samples = silhouette_samples(feature_vect, df['cluster_label'])\n",
    "print('silhouette_samples() return 값의 shape', score_samples.shape)\n",
    "\n",
    "\n",
    "#데이터에 실루엣 계수 칼럼 추가\n",
    "df['sil_coeff'] = score_samples\n",
    "\n",
    "average_score = silhouette_score(feature_vect, df['cluster_label'])\n",
    "print('hiring data set Silhouette Analysis Score:' ,round(average_score, 5))"
   ]
  },
  {
   "cell_type": "code",
   "execution_count": 120,
   "id": "a7c2fdc4",
   "metadata": {
    "scrolled": true
   },
   "outputs": [
    {
     "data": {
      "text/plain": [
       "cluster_label\n",
       "0    0.025012\n",
       "1    0.010433\n",
       "2    0.000330\n",
       "3    0.056627\n",
       "4   -0.001221\n",
       "Name: sil_coeff, dtype: float64"
      ]
     },
     "execution_count": 120,
     "metadata": {},
     "output_type": "execute_result"
    }
   ],
   "source": [
    "df.groupby('cluster_label')['sil_coeff'].mean()"
   ]
  },
  {
   "cell_type": "markdown",
   "id": "9945d7e6",
   "metadata": {},
   "source": [
    "cluster_label\n",
    "0    0.025012\n",
    "1    0.010433\n",
    "2    0.000330\n",
    "3    0.056627\n",
    "4   -0.001221\n",
    "Name: sil_coeff, dtype: float64"
   ]
  },
  {
   "cell_type": "code",
   "execution_count": 85,
   "id": "609a2b27",
   "metadata": {
    "scrolled": true
   },
   "outputs": [
    {
     "name": "stdout",
     "output_type": "stream",
     "text": [
      "k: 2 score: 0.010636497159254035\n",
      "k: 3 score: 0.014868196552693\n",
      "k: 4 score: 0.01795580261818645\n",
      "k: 5 score: 0.01660991992518273\n",
      "k: 6 score: 0.021377059866355932\n",
      "k: 7 score: 0.01963914566499625\n",
      "k: 8 score: 0.02750125938304457\n",
      "k: 9 score: 0.027315833620331083\n",
      "k: 10 score: 0.022003393395161924\n",
      "k: 11 score: 0.022574817284028655\n",
      "k: 12 score: 0.021948224311912713\n",
      "k: 13 score: 0.02358470812510448\n",
      "k: 14 score: 0.027980211586339322\n",
      "k: 15 score: 0.026512042675254793\n",
      "k: 16 score: 0.027490827015927935\n",
      "k: 17 score: 0.02619436227486447\n",
      "k: 18 score: 0.026073302865088938\n",
      "k: 19 score: 0.026776230962257182\n",
      "k: 20 score: 0.026559106905395514\n",
      "k: 21 score: 0.03203530069657745\n",
      "k: 22 score: 0.03299083995846745\n",
      "k: 23 score: 0.03375214154476383\n",
      "k: 24 score: 0.03435910445446567\n",
      "k: 25 score: 0.03593497810544761\n",
      "k: 26 score: 0.03457394322300571\n",
      "k: 27 score: 0.03531215416627506\n",
      "k: 28 score: 0.03509020325318228\n",
      "k: 29 score: 0.034392435680901785\n",
      "best n: 25 best score: 0.03593497810544761\n"
     ]
    }
   ],
   "source": [
    "k_range = range(2, 30)\n",
    "\n",
    "best_n = -1\n",
    "best_silhouette_score = -1\n",
    "\n",
    "for k in k_range:\n",
    "    \n",
    "    km_cluster = KMeans(n_clusters=k, max_iter=200, random_state=0)\n",
    "    km_cluster.fit(feature_vect)\n",
    "    clusters = km_cluster.predict(feature_vect)\n",
    "    \n",
    "    score = silhouette_score(feature_vect, clusters)\n",
    "    print('k:', k, 'score:', score)\n",
    "    \n",
    "    if score > best_silhouette_score :\n",
    "        best_n = k\n",
    "        best_silhouette_score = score\n",
    "        \n",
    "print('best n:', best_n, 'best score:', best_silhouette_score)\n",
    "#https://steadiness-193.tistory.com/285\n"
   ]
  },
  {
   "cell_type": "markdown",
   "id": "78badca6",
   "metadata": {},
   "source": [
    "### 5 cluster: 0.01\n",
    "### 10 cluster: 0.02\n",
    "### 20 cluster: 0.02\n",
    "\n",
    "k: 2 score: 0.01732096124433374\n",
    "k: 3 score: 0.013953858197318219\n",
    "k: 4 score: 0.01076884139188643\n",
    "k: 5 score: 0.009417040501864324\n",
    "k: 6 score: 0.011019065163934106\n",
    "k: 7 score: 0.01615601633337342\n",
    "k: 8 score: 0.011818761102773728\n",
    "k: 9 score: 0.012979047814641877\n",
    "k: 10 score: 0.016436241719045206\n",
    "k: 11 score: 0.013217725910756503\n",
    "k: 12 score: 0.014623131677124692\n",
    "k: 13 score: 0.01623773166339237\n",
    "k: 14 score: 0.015525246537211521\n",
    "k: 15 score: 0.015540380021476353\n",
    "k: 16 score: 0.018632193910099005\n",
    "k: 17 score: 0.021053383158674204\n",
    "k: 18 score: 0.021115787402483502\n",
    "k: 19 score: 0.021914449818631526\n",
    "k: 20 score: 0.022090539685268654\n",
    "k: 21 score: 0.032019173809212854\n",
    "k: 22 score: 0.03273261422463707\n",
    "k: 23 score: 0.03186004025372212\n",
    "k: 24 score: 0.03190289141684729\n",
    "k: 25 score: 0.03285297908907763\n",
    "k: 26 score: 0.03294975543293448\n",
    "k: 27 score: 0.033527295181889905\n",
    "k: 28 score: 0.032901993641493564\n",
    "k: 29 score: 0.032921291911816565\n",
    "best n: 27 best score: 0.033527295181889905"
   ]
  },
  {
   "cell_type": "code",
   "execution_count": 116,
   "id": "a02532ce",
   "metadata": {},
   "outputs": [],
   "source": [
    "cluster_details = get_cluster_details(cluster_model=km_cluster, \n",
    "                                      cluster_data=df, \n",
    "                                      feature_names=feature_names, \n",
    "                                      clusters_num = 8, \n",
    "                                      top_n_features=20)"
   ]
  },
  {
   "cell_type": "code",
   "execution_count": 117,
   "id": "4131b391",
   "metadata": {},
   "outputs": [
    {
     "name": "stdout",
     "output_type": "stream",
     "text": [
      "####### Cluster 0\n",
      "Top Features: ['경험', '운영', '있으신', '구축', '클라우드', '인프라', 'kubernetes', '환경', 'aws', '보안', '아키텍처', '대한', '시스템', '이상', '서비스', 'linux', '설계', '보유', 'jenkins', 'docker']\n",
      "hiring filename: ['디플래닉스', '와디즈', '피어테크', '이스트소프트', '씨제이올리브네트웍스(CJ올리브네트웍스)', '트리플콤마', '일렉트로닉아츠코리아']\n",
      "======================================\n",
      "####### Cluster 1\n",
      "Top Features: ['경험', '개발', '있으신', 'aws', '있는', '대한', '이해', '서비스', 'react', '하는', '보유', '사용', '기술', '이상', '운영', '하고', '설계', 'sap', '으로', 'typescript']\n",
      "hiring filename: ['롯데헬스케어', '스윗코리아', '제제소프트', '디노마드', '롯데헬스케어', '앤서스랩코리아', '오케스트로']\n",
      "======================================\n",
      "####### Cluster 2\n",
      "Top Features: ['경험', '있으신', '개발', '관련', 'learning', '프로젝트', 'ros', '석사', '있으며', '하는', '혹은', '투자', '기꺼이', '시간', '대한', 'cc', '경력', '성취', '강한', 'linux']\n",
      "hiring filename: ['플래티어', '파수', '컨트롤웍스', '디오에프연구소', '유진로봇', '크로커스', '플라잎']\n",
      "======================================\n",
      "####### Cluster 3\n",
      "Top Features: ['qa', '테스트', '경험', '품질', '능력', 'sw', '대한', '있으신', '커뮤니케이션', '보유', 'jira', '지식', '가능하신', 'confluence', '게임', '업무', '개발', '경력', '이해', '작성']\n",
      "hiring filename: ['모비두', '제로엑스플로우', '미리디', '가야데이터', '무하유', '아드리엘', '롯데정보통신']\n",
      "======================================\n",
      "####### Cluster 4\n",
      "Top Features: ['데이터', '분석', '경험', 'sql', 'python', '있으신', '있는', '이상', '관련', 'bi', '통계', '구축', '시각', '경력', '활용', 'tableau', 'google', '대한', '비즈니스', 'etl']\n",
      "hiring filename: ['워트인텔리전스', '핀다', '웅진', '비포플레이', '딥노이드', '애자일소다', '휴맥스모빌리티']\n",
      "======================================\n",
      "####### Cluster 5\n",
      "Top Features: ['and', 'in', 'experience', 'to', 'of', 'the', 'with', 'ability', 'or', 'work', 'data', 'understanding', 'skills', 'technical', 'it', 'at', 'have', '문서', 'center', 'knowledge']\n",
      "hiring filename: ['몰로코', '피엠인터내셔널코리아', '몰로코', '아마존웹서비시즈코리아', '아마존웹서비시즈코리아', '아마존웹서비시즈코리아', '42dot']\n",
      "======================================\n",
      "####### Cluster 6\n",
      "Top Features: ['ai', '경험', '개발', 'cncf', '모델', 'pytorch', 'opencv', '아래', '지능', '인공', 'tensorflow', 'langchain', 'aiops', 'processing', 'learning', 'python', 'ml', '에코', '이미지', 'vision']\n",
      "hiring filename: ['제로원에이아이', '디에스앤지', '피처링', '제로원에이아이', '다비오', '제로원에이아이', '디오에프연구소']\n",
      "======================================\n",
      "####### Cluster 7\n",
      "Top Features: ['러닝', 'tensorflow', 'pytorch', '경험', '있으신', '데이터', '머신', '모델', '논문', 'python', '관련', '최신', 'ai', '이런', 'deeplearning', '개발', '있는', '인공', '지능', 'machinelearning']\n",
      "hiring filename: ['무브멘토', '마크클라우드', '로보코리아', '인터엑스', '인터엑스', '인터엑스', '인터엑스']\n",
      "======================================\n"
     ]
    }
   ],
   "source": [
    "#Kmeans 군집화 객체(label), 핵심 단어 추출, 회사명 반환\n",
    "print_cluster_details(cluster_details)"
   ]
  },
  {
   "cell_type": "markdown",
   "id": "fc978d2b",
   "metadata": {},
   "source": [
    "# 6. 결론\n",
    "\n",
    "- 수치화된 모델 평가보다는 직접적인 데이터 군집 비교가 효과적\n",
    "- 그러기엔 한눈에 볼수 있는 10개 미만의 군집으로 군집갯수 선택\n",
    "- 10개 미만 군집화 중에 실루엣계수가 가장 높은 8개 군집으로 모델링 진행"
   ]
  },
  {
   "cell_type": "markdown",
   "id": "4814ddd5",
   "metadata": {},
   "source": [
    "####### Cluster 0 `클라우드/aws/데이터인프라 구축 채용`\n",
    "\n",
    "Top Features: '경험', '운영', '있으신', '구축', '클라우드', '인프라', 'kubernetes', '환경', 'aws', '보안', '아키텍처', '대한', '시스템', '이상', '서비스', 'linux', '설계', '보유', 'jenkins', 'docker']\n",
    "hiring filename: '디플래닉스', '와디즈', '피어테크', '이스트소프트', '씨제이올리브네트웍스(CJ올리브네트웍스)', '트리플콤마', '일렉트로닉아츠코리아'\n",
    "\n",
    "\n",
    "####### Cluster 1 `aws/sap/개발 경력 채용`\n",
    "\n",
    "Top Features: '경험', '개발', '있으신', 'aws', '있는', '대한', '이해', '서비스', 'react', '하는', '보유', '사용', '기술', '이상', '운영', '하고', '설계', 'sap', '으로', 'typescript'\n",
    "hiring filename: '롯데헬스케어', '스윗코리아', '제제소프트', '디노마드', '롯데헬스케어', '앤서스랩코리아', '오케스트로'\n",
    "\n",
    "\n",
    "####### Cluster 2 `개발/투자/석사/linux 경력 채용`\n",
    "\n",
    "Top Features: '경험', '있으신', '개발', '관련', 'learning', '프로젝트', 'ros', '석사', '있으며', '하는', '혹은', '투자', '기꺼이', '시간', '대한', 'cc', '경력', '성취', '강한', 'linux'\n",
    "hiring filename: '플래티어', '파수', '컨트롤웍스', '디오에프연구소', '유진로봇', '크로커스', '플라잎'\n",
    "\n",
    "\n",
    "####### Cluster 3 `sw/품질/jira/게임 경력 채용`\n",
    "\n",
    "Top Features: 'qa', '테스트', '경험', '품질', '능력', 'sw', '대한', '있으신', '커뮤니케이션', '보유', 'jira', '지식', '가능하신', 'confluence', '게임', '업무', '개발', '경력', '이해', '작성'\n",
    "hiring filename: \\'모비두', '제로엑스플로우', '미리디', '가야데이터', '무하유', '아드리엘', '롯데정보통신'\n",
    "\n",
    "\n",
    "####### Cluster 4 `데이터/분석/python/통계/시각화 경력 채용`\n",
    "\n",
    "Top Features: '데이터', '분석', '경험', 'sql', 'python', '있으신', '있는', '이상', '관련', 'bi', '통계', '구축', '시각', '경력', '활용', 'tableau', 'google', '대한', '비즈니스', 'etl'\n",
    "hiring filename: '워트인텔리전스', '핀다', '웅진', '비포플레이', '딥노이드', '애자일소다', '휴맥스모빌리티'\n",
    "\n",
    "\n",
    "####### Cluster 5 `외국계/데이터/경험 채용`\n",
    "\n",
    "Top Features: 'and', 'in', 'experience', 'to', 'of', 'the', 'with', 'ability', 'or', 'work', 'data', 'understanding', 'skills', 'technical', 'it', 'at', 'have', '문서', 'center', 'knowledge'\n",
    "hiring filename: '몰로코', '피엠인터내셔널코리아', '몰로코', '아마존웹서비시즈코리아', '아마존웹서비시즈코리아', '아마존웹서비시즈코리아', '42dot'\n",
    "\n",
    "\n",
    "####### Cluster 6 `인공지능/개발/머신러닝/비전 경령 채용`\n",
    "\n",
    "Top Features: 'ai', '경험', '개발', 'cncf', '모델', 'pytorch', 'opencv', '아래', '지능', '인공', 'tensorflow', 'langchain', 'aiops', 'processing', 'learning', 'python', 'ml', '에코', '이미지', 'vision'\n",
    "hiring filename: '제로원에이아이', '디에스앤지', '피처링', '제로원에이아이', '다비오', '제로원에이아이', '디오에프연구소'\n",
    "\n",
    "\n",
    "####### Cluster 7 `머신러닝/딥러닝/논문/최신 경력 채용`\n",
    "\n",
    "Top Features: '러닝', 'tensorflow', 'pytorch', '경험', '있으신', '데이터', '머신', '모델', '논문', 'python', '관련', '최신', 'ai', '이런', 'deeplearning', '개발', '있는', '인공', '지능', 'machinelearning'\n",
    "hiring filename: '무브멘토', '마크클라우드', '로보코리아', '인터엑스', '인터엑스', '인터엑스', '인터엑스'"
   ]
  },
  {
   "cell_type": "markdown",
   "id": "d6c6e015",
   "metadata": {},
   "source": [
    "![maxresdefault.jpg](img/maxresdefault.jpg)"
   ]
  },
  {
   "cell_type": "markdown",
   "id": "c65cf424",
   "metadata": {},
   "source": [
    "# 7. 마치며\n",
    "\n",
    "    - 제일 자신 없던 영역이 크롤링이었는데, 이번 기회에 정말 원없이 연습해봤습니다.\n",
    "    \n",
    "    - 공부를 하는 목적인 취업정보를 시간낭비 없이 보고 싶어서 진행한 프로젝트여서 목적은 달성한 거 같습니다.\n",
    "    \n",
    "    - 함부로 크롤링해오다가는 해당 사이트 접근이 막혀버릴 수도 있다는 것을 알게 되었습니다...\n",
    "    \n",
    "    - 예전부터 제대로 하고 싶었던 텍스트 마이닝을 관심있는 주제로 크롤링부터 차근차근 할수 있었던 좋은 기회였습니다\n",
    "    \n",
    "    - 역시 벡터화/형태소 분석 등 데이터 전처리에 시간과 공수가 많이 들었음\n",
    "    \n",
    "    - 사이트에서 어느 정도 정해놓은 형식은 있지만 채용공고를 회사들 나름대로 작성해 분석하는데 어려움이 많습니다. 기술적인 역량을 키워야하는 필요성을 뼈저리게...\n",
    "    \n",
    "    - GPT활용을 극한으로 끌어올리는 경험을 해봤습니다. 물론 기본적인 코드 구현은 직접 할 줄 알아야 하지만, GPT를 활용하여 코드 구현 시간을 최소화할 수 있을 것 같습니다.\n",
    "\n",
    "\n",
    "# 8. 회고 및 미래 작업 방향\n",
    "\n",
    "####     - 현재 채용 중인 공고뿐만 아니라 앞으로 나올 공고도 계속적으로 더 많은 표본을 수집해 나가고 싶다.\n",
    "\n",
    "####    - 현재 우리가 수집한 회사 규모 및 형태, 조회수, 좋아요 등에 대한 분석을 더 해볼 예정이다.\n",
    "\n",
    "####    - KMean cluster 말고도 문서 유사도를 활용해서 **개인이 원하는 채용정보 기준으로 유사한 값의 채용 공고를 추천 프로그램 가능**\n",
    "     "
   ]
  }
 ],
 "metadata": {
  "kernelspec": {
   "display_name": "Python 3 (ipykernel)",
   "language": "python",
   "name": "python3"
  },
  "language_info": {
   "codemirror_mode": {
    "name": "ipython",
    "version": 3
   },
   "file_extension": ".py",
   "mimetype": "text/x-python",
   "name": "python",
   "nbconvert_exporter": "python",
   "pygments_lexer": "ipython3",
   "version": "3.10.13"
  }
 },
 "nbformat": 4,
 "nbformat_minor": 5
}
